{
 "cells": [
  {
   "cell_type": "markdown",
   "id": "0da8cac1",
   "metadata": {},
   "source": [
    "## Array Dimensionality"
   ]
  },
  {
   "cell_type": "code",
   "execution_count": null,
   "id": "1103c4ce",
   "metadata": {},
   "outputs": [],
   "source": [
    "\n",
    "import numpy as np\n",
    "\n",
    "def array_dimension(arr):\n",
    "    return arr.ndim\n",
    "\n",
    "arr = np.array([[1, 2, 3], [4, 5, 6]])  \n",
    "print(\"Dimensionality:\", array_dimension(arr))\n"
   ]
  },
  {
   "cell_type": "markdown",
   "id": "456035cb",
   "metadata": {},
   "source": [
    "## Item Size and Total Size"
   ]
  },
  {
   "cell_type": "code",
   "execution_count": null,
   "id": "3c04f802",
   "metadata": {},
   "outputs": [],
   "source": [
    "\n",
    "import numpy as np\n",
    "\n",
    "def item_size_info(arr):\n",
    "    return arr.itemsize, arr.nbytes\n",
    "\n",
    "arr = np.array([[1, 2, 3], [4, 5, 6]], dtype=np.int32)\n",
    "item_size, total_size = item_size_info(arr)\n",
    "\n",
    "print(\"Item size:\", item_size)\n",
    "print(\"Total size:\", total_size)\n"
   ]
  },
  {
   "cell_type": "markdown",
   "id": "65a7a8d7",
   "metadata": {},
   "source": [
    "## Array Strides"
   ]
  },
  {
   "cell_type": "code",
   "execution_count": null,
   "id": "4b0e8879",
   "metadata": {},
   "outputs": [],
   "source": [
    "\n",
    "import numpy as np\n",
    "\n",
    "def array_strides(arr):\n",
    "    return arr.strides\n",
    "\n",
    "arr = np.array([[1, 2, 3], [4, 5, 6]], dtype=np.int32)\n",
    "print(\"Strides of the array:\", array_strides(arr))\n"
   ]
  },
  {
   "cell_type": "markdown",
   "id": "c48b5489",
   "metadata": {},
   "source": [
    "## Zeros Array"
   ]
  },
  {
   "cell_type": "code",
   "execution_count": null,
   "id": "738d00aa",
   "metadata": {},
   "outputs": [],
   "source": [
    "\n",
    "import numpy as np\n",
    "\n",
    "def create_zeros_array(n):\n",
    "    return np.zeros(n)\n",
    "\n",
    "arr = create_zeros_array(5)\n",
    "print(arr)\n",
    "print(\"Shape:\", arr.shape)\n",
    "print(\"Type:\", arr.dtype)\n"
   ]
  },
  {
   "cell_type": "markdown",
   "id": "178b48be",
   "metadata": {},
   "source": [
    "## Ones Matrix"
   ]
  },
  {
   "cell_type": "code",
   "execution_count": null,
   "id": "8a302990",
   "metadata": {},
   "outputs": [],
   "source": [
    "\n",
    "import numpy as np\n",
    "\n",
    "def create_ones_matrix(rows, cols):\n",
    "    return np.ones((rows, cols))\n",
    "\n",
    "matrix = create_ones_matrix(3, 4)\n",
    "print(matrix)\n",
    "print(\"Shape:\", matrix.shape)\n",
    "print(\"Type:\", matrix.dtype)\n"
   ]
  },
  {
   "cell_type": "markdown",
   "id": "8fbeb74f",
   "metadata": {},
   "source": [
    "## Identity Matrix"
   ]
  },
  {
   "cell_type": "code",
   "execution_count": null,
   "id": "8e60ee8c",
   "metadata": {},
   "outputs": [],
   "source": [
    "\n",
    "import numpy as np\n",
    "\n",
    "def create_identity_matrix(n):\n",
    "    return np.eye(n)\n",
    "\n",
    "matrix = create_identity_matrix(4)\n",
    "print(matrix)\n"
   ]
  },
  {
   "cell_type": "markdown",
   "id": "a123e551",
   "metadata": {},
   "source": [
    "## Concatenation of Arrays"
   ]
  },
  {
   "cell_type": "code",
   "execution_count": null,
   "id": "a6299da5",
   "metadata": {},
   "outputs": [],
   "source": [
    "\n",
    "import numpy as np\n",
    "\n",
    "def concatenate_arrays(arr1, arr2, axis=0):\n",
    "    return np.concatenate((arr1, arr2), axis=axis)\n",
    "\n",
    "arr1 = np.array([[1, 2], [3, 4]])\n",
    "arr2 = np.array([[5, 6], [7, 8]])\n",
    "\n",
    "concat_axis_0 = concatenate_arrays(arr1, arr2, axis=0)\n",
    "print(\"Concatenated along axis 0:\n",
    "\", concat_axis_0)\n",
    "\n",
    "concat_axis_1 = concatenate_arrays(arr1, arr2, axis=1)\n",
    "print(\"Concatenated along axis 1:\n",
    "\", concat_axis_1)\n"
   ]
  },
  {
   "cell_type": "markdown",
   "id": "5addc849",
   "metadata": {},
   "source": [
    "## Pandas DataFrame with Random Integers"
   ]
  },
  {
   "cell_type": "code",
   "execution_count": null,
   "id": "8a7aaff0",
   "metadata": {},
   "outputs": [],
   "source": [
    "\n",
    "import numpy as np\n",
    "import pandas as pd\n",
    "\n",
    "def create_random_dataframe():\n",
    "    data = np.random.randint(1, 101, size=(5, 3))\n",
    "    df = pd.DataFrame(data, columns=['A', 'B', 'C'])\n",
    "    return df\n",
    "\n",
    "df = create_random_dataframe()\n",
    "print(df)\n"
   ]
  },
  {
   "cell_type": "markdown",
   "id": "318e7a9d",
   "metadata": {},
   "source": [
    "## Replace Negative Values in DataFrame"
   ]
  },
  {
   "cell_type": "code",
   "execution_count": null,
   "id": "a10beff0",
   "metadata": {},
   "outputs": [],
   "source": [
    "\n",
    "import numpy as np\n",
    "import pandas as pd\n",
    "\n",
    "def replace_negative(df, column_name):\n",
    "    df[column_name] = np.where(df[column_name] < 0, 0, df[column_name])\n",
    "    return df\n",
    "\n",
    "data = {\n",
    "    'A': [5, 65, -6, 5, -9],\n",
    "    'B': [75, -4, 3, 8, -1]\n",
    "}\n",
    "df = pd.DataFrame(data)\n",
    "updated_df = replace_negative(df, 'B')\n",
    "print(updated_df)\n"
   ]
  },
  {
   "cell_type": "markdown",
   "id": "b4117e04",
   "metadata": {},
   "source": [
    "## Boolean Indexing to Extract Elements"
   ]
  },
  {
   "cell_type": "code",
   "execution_count": null,
   "id": "0d3a974a",
   "metadata": {},
   "outputs": [],
   "source": [
    "\n",
    "import numpy as np\n",
    "\n",
    "arr = np.array([3, 8, 2, 10, 5, 7])\n",
    "filtered_arr = arr[arr > 5]\n",
    "\n",
    "print(\"Elements greater than 5:\", filtered_arr)\n"
   ]
  },
  {
   "cell_type": "markdown",
   "id": "e6e6aad7",
   "metadata": {},
   "source": [
    "## Basic Slicing in NumPy"
   ]
  },
  {
   "cell_type": "code",
   "execution_count": null,
   "id": "790cfa0d",
   "metadata": {},
   "outputs": [],
   "source": [
    "\n",
    "import numpy as np\n",
    "\n",
    "arr = np.array([1, 2, 3, 4, 5, 6, 7, 8, 9])\n",
    "sliced_arr = arr[2:6]\n",
    "\n",
    "print(\"Sliced elements (index 2 to 5):\", sliced_arr)\n"
   ]
  }
 ],
 "metadata": {},
 "nbformat": 4,
 "nbformat_minor": 5
}