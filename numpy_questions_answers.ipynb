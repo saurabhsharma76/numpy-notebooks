{
 "cells": [
  {
   "cell_type": "code",
   "execution_count": null,
   "id": "04ab7398",
   "metadata": {},
   "outputs": [],
   "source": [
    "import numpy as np\n",
    "\n",
    "#creating an array from 0 to 5\n",
    "arr = np.array([0, 1, 2, 3, 4, 5])\n",
    "\n",
    "#printing the data type \n",
    "print(arr.dtype)"
   ]
  },
  {
   "cell_type": "code",
   "execution_count": null,
   "id": "be1c61a4",
   "metadata": {},
   "outputs": [],
   "source": [
    "import numpy as np\n",
    "\n",
    "# Given NumPy array\n",
    "arr = np.array([1.5, 2.6, 3.7])\n",
    "\n",
    "if arr.dtype == np.float64:\n",
    "    print(\"The array type is float64\")\n",
    "else:\n",
    "    print(\"The array type is not float64\")"
   ]
  },
  {
   "cell_type": "code",
   "execution_count": null,
   "id": "5f7f90a4",
   "metadata": {},
   "outputs": [],
   "source": [
    "import numpy as np\n",
    "\n",
    "#creating a numpy array with complex number\n",
    "arr=np.array([1+2j,3+4j,5+6j], dtype=np.complex128)\n",
    "\n",
    "#printing the array\n",
    "print(arr)\n",
    "#printing the data type\n",
    "print(\"Data type: \", arr.dtype)"
   ]
  },
  {
   "cell_type": "code",
   "execution_count": null,
   "id": "061e014c",
   "metadata": {},
   "outputs": [],
   "source": [
    "import numpy as np\n",
    "\n",
    "#creating integer array\n",
    "arr = np.array([1,2,3,4,5])\n",
    "\n",
    "#converting to float32\n",
    "arr_float = arr.astype(np.float32)\n",
    "\n",
    "#printing new array\n",
    "print(arr_float)\n",
    "#printing data type\n",
    "print(\"Data type:\", arr_float.dtype)"
   ]
  },
  {
   "cell_type": "code",
   "execution_count": null,
   "id": "3e544d26",
   "metadata": {},
   "outputs": [],
   "source": [
    "import numpy as np\n",
    "\n",
    "#creating a NumPy array with float64 data type\n",
    "arr = np.array([1.123456789, 2.987654321, 3.1415926535], dtype=np.float64)\n",
    "\n",
    "#converting to float32 \n",
    "arr_float32 = arr.astype(np.float32)\n",
    "\n",
    "#printing the new array and its data type\n",
    "print(arr_float32)\n",
    "print(\"Data type:\", arr_float32.dtype)"
   ]
  },
  {
   "cell_type": "code",
   "execution_count": null,
   "id": "73a8362a",
   "metadata": {},
   "outputs": [],
   "source": [
    "import numpy as np\n",
    "\n",
    "def array_attributes(arr):\n",
    "    #return shape, size and type\n",
    "    return arr.shape, arr.size, arr.dtype\n",
    "\n",
    "#example\n",
    "arr = np.array([[1,2,3],[4,5,6]], dtype=np.int32)\n",
    "\n",
    "attributes = array_attributes(arr)\n",
    "print(\"Shape:\", attributes[0])\n",
    "print(\"Size:\", attributes[1])\n",
    "print(\"Data Type:\", attributes[2])"
   ]
  },
  {
   "cell_type": "code",
   "execution_count": null,
   "id": "bbb70d8a",
   "metadata": {},
   "outputs": [],
   "source": [
    "import numpy as np\n",
    "\n",
    "def array_dimension(arr):\n",
    "    #return dimension\n",
    "    return arr.ndim\n",
    "\n",
    "#example\n",
    "arr = np.array([[1, 2, 3], [4, 5, 6]])  \n",
    "print(\"Dimensionality:\", array_dimension(arr))"
   ]
  }
 ],
 "metadata": {},
 "nbformat": 4,
 "nbformat_minor": 5
}
