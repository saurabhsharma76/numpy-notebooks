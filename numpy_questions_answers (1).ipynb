{
 "cells": [
  {
   "cell_type": "markdown",
   "id": "e1653f27",
   "metadata": {},
   "source": [
    "### Question 1: Create a NumPy array 'arr' of integers from 0 to 5 and print its data type."
   ]
  },
  {
   "cell_type": "code",
   "execution_count": null,
   "id": "d2aee5b3",
   "metadata": {},
   "outputs": [],
   "source": [
    "import numpy as np\n",
    "\n",
    "# Creating an array from 0 to 5\n",
    "arr = np.array([0, 1, 2, 3, 4, 5])\n",
    "\n",
    "# Printing the data type \n",
    "print(arr.dtype)"
   ]
  },
  {
   "cell_type": "markdown",
   "id": "d961d36a",
   "metadata": {},
   "source": [
    "### Question 2: Given a NumPy array 'arr', check if its data type is float64."
   ]
  },
  {
   "cell_type": "code",
   "execution_count": null,
   "id": "b4a2e35c",
   "metadata": {},
   "outputs": [],
   "source": [
    "import numpy as np\n",
    "\n",
    "# Given NumPy array\n",
    "arr = np.array([1.5, 2.6, 3.7])\n",
    "\n",
    "if arr.dtype == np.float64:\n",
    "    print(\"The array type is float64\")\n",
    "else:\n",
    "    print(\"The array type is not float64\")"
   ]
  },
  {
   "cell_type": "markdown",
   "id": "3bc46fa4",
   "metadata": {},
   "source": [
    "### Question 3: Create a NumPy array 'arr' with a data type of complex128 containing three complex numbers."
   ]
  },
  {
   "cell_type": "code",
   "execution_count": null,
   "id": "06f68cb0",
   "metadata": {},
   "outputs": [],
   "source": [
    "import numpy as np\n",
    "\n",
    "# Creating a NumPy array with complex numbers\n",
    "arr = np.array([1+2j, 3+4j, 5+6j], dtype=np.complex128)\n",
    "\n",
    "# Printing the array\n",
    "print(arr)\n",
    "\n",
    "# Printing the data type\n",
    "print(\"Data type:\", arr.dtype)"
   ]
  },
  {
   "cell_type": "markdown",
   "id": "f4d75de0",
   "metadata": {},
   "source": [
    "### Question 4: Convert an existing NumPy array 'arr' of integers to float32 data type."
   ]
  },
  {
   "cell_type": "code",
   "execution_count": null,
   "id": "6eec3d57",
   "metadata": {},
   "outputs": [],
   "source": [
    "import numpy as np\n",
    "\n",
    "# Creating integer array\n",
    "arr = np.array([1, 2, 3, 4, 5])\n",
    "\n",
    "# Converting to float32\n",
    "arr_float = arr.astype(np.float32)\n",
    "\n",
    "# Printing new array\n",
    "print(arr_float)\n",
    "\n",
    "# Printing data type\n",
    "print(\"Data type:\", arr_float.dtype)"
   ]
  },
  {
   "cell_type": "markdown",
   "id": "1d92e7f5",
   "metadata": {},
   "source": [
    "### Question 5: Given a NumPy array 'arr' with float64 data type, convert it to float32 to reduce decimal precision."
   ]
  },
  {
   "cell_type": "code",
   "execution_count": null,
   "id": "1fdc3de6",
   "metadata": {},
   "outputs": [],
   "source": [
    "import numpy as np\n",
    "\n",
    "# Creating a NumPy array with float64 data type\n",
    "arr = np.array([1.123456789, 2.987654321, 3.1415926535], dtype=np.float64)\n",
    "\n",
    "# Converting to float32 \n",
    "arr_float32 = arr.astype(np.float32)\n",
    "\n",
    "# Printing the new array and its data type\n",
    "print(arr_float32)\n",
    "print(\"Data type:\", arr_float32.dtype)"
   ]
  },
  {
   "cell_type": "markdown",
   "id": "0bf6f86e",
   "metadata": {},
   "source": [
    "### Question 6: Write a function `array_attributes` that takes a NumPy array as input and returns its shape, size, and data type."
   ]
  },
  {
   "cell_type": "code",
   "execution_count": null,
   "id": "401e18c1",
   "metadata": {},
   "outputs": [],
   "source": [
    "import numpy as np\n",
    "\n",
    "def array_attributes(arr):\n",
    "    # Return shape, size, and type\n",
    "    return arr.shape, arr.size, arr.dtype\n",
    "\n",
    "# Example\n",
    "arr = np.array([[1, 2, 3], [4, 5, 6]], dtype=np.int32)\n",
    "\n",
    "attributes = array_attributes(arr)\n",
    "print(\"Shape:\", attributes[0])\n",
    "print(\"Size:\", attributes[1])\n",
    "print(\"Data Type:\", attributes[2])"
   ]
  },
  {
   "cell_type": "markdown",
   "id": "210f30fe",
   "metadata": {},
   "source": [
    "### Question 7: Create a function `array_dimension` that takes a NumPy array as input and returns its dimensionality."
   ]
  },
  {
   "cell_type": "code",
   "execution_count": null,
   "id": "1a86f560",
   "metadata": {},
   "outputs": [],
   "source": [
    "import numpy as np\n",
    "\n",
    "def array_dimension(arr):\n",
    "    # Return dimension\n",
    "    return arr.ndim\n",
    "\n",
    "# Example\n",
    "arr = np.array([[1, 2, 3], [4, 5, 6]])  \n",
    "print(\"Dimensionality:\", array_dimension(arr))"
   ]
  }
 ],
 "metadata": {},
 "nbformat": 4,
 "nbformat_minor": 5
}
